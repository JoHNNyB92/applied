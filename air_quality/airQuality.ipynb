{
 "cells": [
  {
   "cell_type": "markdown",
   "metadata": {},
   "source": [
    "# Imports"
   ]
  },
  {
   "cell_type": "code",
   "execution_count": 2,
   "metadata": {
    "collapsed": true
   },
   "outputs": [],
   "source": [
    "import matplotlib.pyplot as plt\n",
    "from sklearn import datasets\n",
    "import pandas as pd\n",
    "import numpy as np\n",
    "import seaborn as sns\n",
    "from pandas.plotting import scatter_matrix\n",
    "\n",
    "from sklearn import decomposition\n",
    "\n",
    "from numpy import set_printoptions\n",
    "from sklearn.preprocessing import MinMaxScaler\n",
    "from sklearn.preprocessing import StandardScaler\n",
    "from sklearn.preprocessing import Normalizer\n",
    "from sklearn.preprocessing import Binarizer\n",
    "\n",
    "from sklearn.model_selection import KFold\n",
    "from sklearn.model_selection import cross_val_score\n",
    "from sklearn.linear_model import LinearRegression\n",
    "from sklearn.linear_model import Ridge\n",
    "from sklearn.linear_model import Lasso\n",
    "\n",
    "from sklearn.model_selection import train_test_split\n",
    "from sklearn.metrics import accuracy_score\n",
    "\n",
    "from sklearn.metrics import classification_report\n",
    "from sklearn.metrics import confusion_matrix\n",
    "\n",
    "from sklearn.datasets import load_boston\n",
    "from sklearn.metrics import mean_squared_error\n",
    "from collections import Counter\n",
    "\n",
    "import operator\n",
    "from sklearn.model_selection import GridSearchCV"
   ]
  },
  {
   "cell_type": "markdown",
   "metadata": {},
   "source": [
    "# Step 1: Prepare Project\n",
    "\n",
    "Load libraries Load dataset\n"
   ]
  },
  {
   "cell_type": "code",
   "execution_count": 3,
   "metadata": {},
   "outputs": [],
   "source": [
    "#use sklearn library\n",
    "air_data = pd.read_excel('AirQualityUCI.xlsx')\n",
    "#https://archive.ics.uci.edu/ml/datasets/Air+Quality\n"
   ]
  },
  {
   "cell_type": "markdown",
   "metadata": {},
   "source": [
    "# Step 2: Define Problem\n",
    "What is your task? What are your goals? What do you want to achieve?\n",
    "\n"
   ]
  },
  {
   "cell_type": "raw",
   "metadata": {},
   "source": [
    "\n",
    "The dataset contains 9358 instances of hourly averaged responses from an array of 5 metal oxide chemical sensors embedded in an Air Quality Chemical Multisensor Device. This dataset is used to predict the amount of C6H6(GT) based on other parameters.\n",
    "\n",
    "\n",
    "The dataset contains a total of 9358 instances and 15 attributes.\n",
    "They are:\n",
    "0 Date    (DD/MM/YYYY) \n",
    "1 Time    (HH.MM.SS) \n",
    "2 True hourly averaged concentration CO in mg/m^3 (reference analyzer) \n",
    "3 PT08.S1 (tin oxide) hourly averaged sensor response (nominally CO targeted)    \n",
    "4 True hourly averaged overall Non Metanic HydroCarbons concentration in microg/m^3 (reference analyzer) \n",
    "5 True hourly averaged Benzene concentration in microg/m^3 (reference analyzer) \n",
    "6 PT08.S2 (titania) hourly averaged sensor response (nominally NMHC targeted)    \n",
    "7 True hourly averaged NOx concentration in ppb (reference analyzer) \n",
    "8 PT08.S3 (tungsten oxide) hourly averaged sensor response (nominally NOx targeted) \n",
    "9 True hourly averaged NO2 concentration in microg/m^3 (reference analyzer)    \n",
    "10 PT08.S4 (tungsten oxide) hourly averaged sensor response (nominally NO2 targeted)    \n",
    "11 PT08.S5 (indium oxide) hourly averaged sensor response (nominally O3 targeted) \n",
    "12 Temperature in Â°C    \n",
    "13 Relative Humidity (%) \n",
    "14 AH Absolute Humidity \n",
    "\n",
    "\n"
   ]
  },
  {
   "cell_type": "markdown",
   "metadata": {},
   "source": [
    "# Step 3: Exploratory Analysis\n",
    "Understand your data: Take a “peek” of your data, answer basic questions about the dataset. Summarise your data. Explore descriptive statistics and visualisations.\n",
    "\n"
   ]
  },
  {
   "cell_type": "markdown",
   "metadata": {},
   "source": [
    "# Take a “peek” of your data\n"
   ]
  },
  {
   "cell_type": "code",
   "execution_count": 4,
   "metadata": {},
   "outputs": [
    {
     "name": "stdout",
     "output_type": "stream",
     "text": [
      "\n",
      "Head of the dataset:\n",
      "        Date      Time  CO(GT)  PT08.S1(CO)  NMHC(GT)   C6H6(GT)  \\\n",
      "0 2004-03-10  18:00:00     2.6      1360.00       150  11.881723   \n",
      "1 2004-03-10  19:00:00     2.0      1292.25       112   9.397165   \n",
      "2 2004-03-10  20:00:00     2.2      1402.00        88   8.997817   \n",
      "3 2004-03-10  21:00:00     2.2      1375.50        80   9.228796   \n",
      "4 2004-03-10  22:00:00     1.6      1272.25        51   6.518224   \n",
      "\n",
      "   PT08.S2(NMHC)  NOx(GT)  PT08.S3(NOx)  NO2(GT)  PT08.S4(NO2)  PT08.S5(O3)  \\\n",
      "0        1045.50    166.0       1056.25    113.0       1692.00      1267.50   \n",
      "1         954.75    103.0       1173.75     92.0       1558.75       972.25   \n",
      "2         939.25    131.0       1140.00    114.0       1554.50      1074.00   \n",
      "3         948.25    172.0       1092.00    122.0       1583.75      1203.25   \n",
      "4         835.50    131.0       1205.00    116.0       1490.00      1110.00   \n",
      "\n",
      "       T         RH        AH  \n",
      "0  13.60  48.875001  0.757754  \n",
      "1  13.30  47.700000  0.725487  \n",
      "2  11.90  53.975000  0.750239  \n",
      "3  11.00  60.000000  0.786713  \n",
      "4  11.15  59.575001  0.788794  \n",
      "------------------------------------------------------------------------------------------------\n",
      "\n",
      "Tail of the dataset:\n",
      "           Date      Time  CO(GT)  PT08.S1(CO)  NMHC(GT)   C6H6(GT)  \\\n",
      "9352 2005-04-04  10:00:00     3.1      1314.25      -200  13.529605   \n",
      "9353 2005-04-04  11:00:00     2.4      1162.50      -200  11.355157   \n",
      "9354 2005-04-04  12:00:00     2.4      1142.00      -200  12.374538   \n",
      "9355 2005-04-04  13:00:00     2.1      1002.50      -200   9.547187   \n",
      "9356 2005-04-04  14:00:00     2.2      1070.75      -200  11.932060   \n",
      "\n",
      "      PT08.S2(NMHC)  NOx(GT)  PT08.S3(NOx)  NO2(GT)  PT08.S4(NO2)  \\\n",
      "9352        1101.25    471.7        538.50    189.8       1374.25   \n",
      "9353        1027.00    353.3        603.75    179.2       1263.50   \n",
      "9354        1062.50    293.0        603.25    174.7       1240.75   \n",
      "9355         960.50    234.5        701.50    155.7       1041.00   \n",
      "9356        1047.25    265.2        654.00    167.7       1128.50   \n",
      "\n",
      "      PT08.S5(O3)       T      RH        AH  \n",
      "9352      1728.50  21.850  29.250  0.756824  \n",
      "9353      1269.00  24.325  23.725  0.711864  \n",
      "9354      1092.00  26.900  18.350  0.640649  \n",
      "9355       769.75  28.325  13.550  0.513866  \n",
      "9356       816.00  28.500  13.125  0.502804  \n"
     ]
    }
   ],
   "source": [
    "print \"\\nHead of the dataset:\\n\", air_data.head()\n",
    "print \"------------------------------------------------------------------------------------------------\"\n",
    "print \"\\nTail of the dataset:\\n\", air_data.tail()\n",
    "\n"
   ]
  },
  {
   "cell_type": "markdown",
   "metadata": {},
   "source": [
    "# Is there null instances?"
   ]
  },
  {
   "cell_type": "raw",
   "metadata": {},
   "source": [
    "For  missing data we used a dataframe from panda library, that return any row that has an empty column.\n",
    "At this dataset there isnt any missing value. \n",
    "The problem of missing data is common in all research and can have a significant effect on the conclusions \n",
    "that can be drawn from the data. We see that there is no missing data."
   ]
  },
  {
   "cell_type": "code",
   "execution_count": 16,
   "metadata": {},
   "outputs": [
    {
     "name": "stdout",
     "output_type": "stream",
     "text": [
      "Empty DataFrame\n",
      "Columns: [Date, Time, CO(GT), PT08.S1(CO), NMHC(GT), C6H6(GT), PT08.S2(NMHC), NOx(GT), PT08.S3(NOx), NO2(GT), PT08.S4(NO2), PT08.S5(O3), T, RH, AH]\n",
      "Index: []\n"
     ]
    }
   ],
   "source": [
    "\n",
    "null_data = air_data[air_data.isnull().any(axis=1)]\n",
    "print null_data"
   ]
  },
  {
   "cell_type": "code",
   "execution_count": 15,
   "metadata": {},
   "outputs": [],
   "source": [
    "#air_data.dropna(axis=0, how='all')\n"
   ]
  },
  {
   "cell_type": "markdown",
   "metadata": {},
   "source": [
    "# Dimensions of the data Answer basic questions about the dataset:"
   ]
  },
  {
   "cell_type": "raw",
   "metadata": {},
   "source": [
    "At this case we have 15 columns, 14 columns for data features, one column for the target values and 9358 instnaces "
   ]
  },
  {
   "cell_type": "markdown",
   "metadata": {},
   "source": [
    "#  What is the shape of your data -  \"curse of dimensionality\"?  \n"
   ]
  },
  {
   "cell_type": "code",
   "execution_count": 33,
   "metadata": {},
   "outputs": [
    {
     "name": "stdout",
     "output_type": "stream",
     "text": [
      "\n",
      "Shape of air_data: (9357, 12)\n"
     ]
    }
   ],
   "source": [
    "\n",
    "features = air_data\n",
    "#is the target feature\n",
    "features = features.drop('C6H6(GT)', axis=1)\n",
    "features = features.drop('Date', axis=1)\n",
    "features = features.drop('Time', axis=1)\n",
    "labels = air_data['C6H6(GT)'].values\n",
    "features = features.values\n",
    "\n",
    "\n",
    "print \"\\nShape of air_data:\", features.shape\n"
   ]
  },
  {
   "cell_type": "markdown",
   "metadata": {},
   "source": [
    "# Data Type of Each Attribute :What are the data types? Numeric? Categorical? "
   ]
  },
  {
   "cell_type": "raw",
   "metadata": {},
   "source": [
    "In order to check the data type of each column we used the dtypes function from panda library.\n",
    "As you can see tmost of them are flot except the date, time (that is logic) and NMHC(GT).\n"
   ]
  },
  {
   "cell_type": "code",
   "execution_count": 19,
   "metadata": {},
   "outputs": [
    {
     "name": "stdout",
     "output_type": "stream",
     "text": [
      "\n",
      "Type of the columns:\n",
      "Date             datetime64[ns]\n",
      "Time                     object\n",
      "CO(GT)                  float64\n",
      "PT08.S1(CO)             float64\n",
      "NMHC(GT)                  int64\n",
      "C6H6(GT)                float64\n",
      "PT08.S2(NMHC)           float64\n",
      "NOx(GT)                 float64\n",
      "PT08.S3(NOx)            float64\n",
      "NO2(GT)                 float64\n",
      "PT08.S4(NO2)            float64\n",
      "PT08.S5(O3)             float64\n",
      "T                       float64\n",
      "RH                      float64\n",
      "AH                      float64\n",
      "dtype: object\n"
     ]
    }
   ],
   "source": [
    "print \"\\nType of the columns:\\n\",air_data.dtypes"
   ]
  },
  {
   "cell_type": "markdown",
   "metadata": {},
   "source": [
    "# Summarise your data\n"
   ]
  },
  {
   "cell_type": "raw",
   "metadata": {},
   "source": [
    "Its about looking at the data.\n",
    "\n",
    "For that step we take  a look at the data with a few different ways:\n",
    "    Dimensions of the dataset (done at previous steps at which we explore the features),\n",
    "    Peek at the data itself (done at previous steps with head and tail functions),\n",
    "    Statistical summary of all attributes (wii be done at this step),\n",
    "    Breakdown of the data by the class variable (will be done at the next steps)."
   ]
  },
  {
   "cell_type": "markdown",
   "metadata": {},
   "source": [
    "# Explore descriptive statistics"
   ]
  },
  {
   "cell_type": "raw",
   "metadata": {},
   "source": [
    "In order to have some Statistical results for the dataset we can use the describe function from pandas library.\n",
    "Describe function returns 8 values for each column. These values are described below:\n",
    "\n",
    "1. Count: how many values the attribute has\n",
    "2. Mean: the mean of all values of the attribute\n",
    "3. Standard Deviation (std): the amount of variation values have. Low means values are closer to the mean\n",
    "4. Minimum value\n",
    "5. 25th Percentile: the value under which 25% of the instances can be found\n",
    "6. 50th Percentile: the value under which 50% of the instances can be found(called the median, is the value that splits the distribution in half)\n",
    "7. 75th Percentile: the value under which 75% of the instances can be found\n",
    "8. Maximum value"
   ]
  },
  {
   "cell_type": "raw",
   "metadata": {},
   "source": [
    "From that statistics we can have detailed distribution information about the features of the dataset.\n",
    "We can find the max and min value for all features, so we know the range of the values.Also we can find \"NA\" values for missing data. Another very important result we can take is the mean and the std of the data feature. Knowing the mean and the std of a feature we can have  a quick view about its distribution. At the machine learning our goal is to use dataset with mean=0 and var=1,  so for sure our data will need normalization to mean=0 and var=1 in order to apply them at the machine leraning algorithms.\n",
    "Also the Percentiles values can be used to describe a variable's spread\n",
    "There is the 25% percentile - known as first quartile, the 75% percentile - known as third quartile and the 50% percentile - known as median and splits the distribution in half. These percentiles values are shown at the boxplot diagrams also."
   ]
  },
  {
   "cell_type": "code",
   "execution_count": 20,
   "metadata": {
    "scrolled": true
   },
   "outputs": [
    {
     "name": "stdout",
     "output_type": "stream",
     "text": [
      "            CO(GT)  PT08.S1(CO)     NMHC(GT)     C6H6(GT)  PT08.S2(NMHC)  \\\n",
      "count  9357.000000  9357.000000  9357.000000  9357.000000    9357.000000   \n",
      "mean    -34.207524  1048.869652  -159.090093     1.865576     894.475963   \n",
      "std      77.657170   329.817015   139.789093    41.380154     342.315902   \n",
      "min    -200.000000  -200.000000  -200.000000  -200.000000    -200.000000   \n",
      "25%       0.600000   921.000000  -200.000000     4.004958     711.000000   \n",
      "50%       1.500000  1052.500000  -200.000000     7.886653     894.500000   \n",
      "75%       2.600000  1221.250000  -200.000000    13.636091    1104.750000   \n",
      "max      11.900000  2039.750000  1189.000000    63.741476    2214.000000   \n",
      "\n",
      "           NOx(GT)  PT08.S3(NOx)      NO2(GT)  PT08.S4(NO2)  PT08.S5(O3)  \\\n",
      "count  9357.000000   9357.000000  9357.000000   9357.000000  9357.000000   \n",
      "mean    168.604200    794.872333    58.135898   1391.363266   974.951534   \n",
      "std     257.424561    321.977031   126.931428    467.192382   456.922728   \n",
      "min    -200.000000   -200.000000  -200.000000   -200.000000  -200.000000   \n",
      "25%      50.000000    637.000000    53.000000   1184.750000   699.750000   \n",
      "50%     141.000000    794.250000    96.000000   1445.500000   942.000000   \n",
      "75%     284.200000    960.250000   133.000000   1662.000000  1255.250000   \n",
      "max    1479.000000   2682.750000   339.700000   2775.000000  2522.750000   \n",
      "\n",
      "                 T           RH           AH  \n",
      "count  9357.000000  9357.000000  9357.000000  \n",
      "mean      9.776600    39.483611    -6.837604  \n",
      "std      43.203438    51.215645    38.976670  \n",
      "min    -200.000000  -200.000000  -200.000000  \n",
      "25%      10.950000    34.050000     0.692275  \n",
      "50%      17.200000    48.550000     0.976823  \n",
      "75%      24.075000    61.875000     1.296223  \n",
      "max      44.600000    88.725000     2.231036  \n"
     ]
    }
   ],
   "source": [
    "#Descriptive Statistics\n",
    "print (air_data.describe())\n"
   ]
  },
  {
   "cell_type": "markdown",
   "metadata": {},
   "source": [
    "# Summarise distribution "
   ]
  },
  {
   "cell_type": "markdown",
   "metadata": {},
   "source": [
    "Summarise distribution of instances across classes, you need to know how balanced the class values are.\n",
    "Highly imbalanced problems (a lot more observations for one class than another) are common \n",
    "and may need special handling in the data preparation stage of the project.\n",
    "\n",
    "\n",
    "We will groupby air data with the target value in order to check that the instances are normally distributted at the target values. As we can see from the plot houses values are not normally distributed, most of the cases have target value 50  (16 cases) whereas other house values have sugnificant smaller target. "
   ]
  },
  {
   "cell_type": "code",
   "execution_count": 23,
   "metadata": {},
   "outputs": [
    {
     "data": {
      "image/png": "[encoded data removed]",
      "text/plain": [
       "<matplotlib.figure.Figure at 0x7f63ad87db50>"
      ]
     },
     "metadata": {},
     "output_type": "display_data"
    }
   ],
   "source": [
    "\n",
    "counters= Counter(labels)\n",
    "\n",
    "lists = sorted(counters.items()) # sorted by key, return a list of tuples\n",
    "x, y = zip(*lists) # unpack a list of pairs into two tuples\n",
    "plt.bar(x,y, align='center', alpha=0.5)\n",
    "plt.xlabel('Ammount of C6H6(GT)')\n",
    "plt.ylabel('Instances with the same ammount of C6H6(GT)')\n",
    "plt.title(\"Num of measurements have C6H6(GT)\")\n",
    "plt.show()\n",
    "#print(boston_pd.groupby('target').size())"
   ]
  },
  {
   "cell_type": "markdown",
   "metadata": {},
   "source": [
    "# Correlation between attributes\n"
   ]
  },
  {
   "cell_type": "markdown",
   "metadata": {
    "collapsed": true
   },
   "source": [
    "Correlation refers to the relationship between two variables and how they may or\n",
    "may not change together. The most common method for calculating correlation is Pearson’s Correlation Coefficient, \n",
    "that assumes a normal distribution of the attributes involved. A correlation of -1 or 1 shows a full negative or positive \n",
    "correlation respectively. Whereas a value of 0 shows no correlation at all. Positive correlation means that if one variable increases the other also increases and when one variable decreases the other also decreases. Negative correlation means if one variable increases the other decreases and vice versa and zero correlation imenas is there is no relationship between the two variables such that the value of one variable changes and the other variable remains constant.\n",
    "It is useful to know if variables are highly correlated, because some machine learning algorithms like linear and \n",
    "logistic regression can have poor performance if there are highly correlated input variables in their data.\n",
    "As such, it is good to review all of the pair-wise correlations of the attributes in the dataset. \n",
    "For that scope I used the corr() function from the Pandas DataFrame to calculate the correlation matrix.\n"
   ]
  },
  {
   "cell_type": "code",
   "execution_count": 25,
   "metadata": {
    "scrolled": true
   },
   "outputs": [
    {
     "name": "stdout",
     "output_type": "stream",
     "text": [
      "               CO(GT)  PT08.S1(CO)   NMHC(GT)  C6H6(GT)  PT08.S2(NMHC)  NOx(GT)  PT08.S3(NOx)  \\\n",
      "CO(GT)          1.000        0.041  1.284e-01    -0.031          0.030    0.526        -0.090   \n",
      "PT08.S1(CO)     0.041        1.000  1.700e-01     0.853          0.933    0.278         0.087   \n",
      "NMHC(GT)        0.128        0.170  1.000e+00     0.037          0.110   -0.004         0.049   \n",
      "C6H6(GT)       -0.031        0.853  3.733e-02     1.000          0.767   -0.001         0.512   \n",
      "PT08.S2(NMHC)   0.030        0.933  1.101e-01     0.767          1.000    0.331        -0.074   \n",
      "NOx(GT)         0.526        0.278 -4.413e-03    -0.001          0.331    1.000        -0.436   \n",
      "PT08.S3(NOx)   -0.090        0.087  4.883e-02     0.512         -0.074   -0.436         1.000   \n",
      "NO2(GT)         0.671        0.154  1.033e-01    -0.011          0.177    0.817        -0.256   \n",
      "PT08.S4(NO2)   -0.074        0.845  1.627e-01     0.775          0.875    0.036         0.123   \n",
      "PT08.S5(O3)     0.080        0.892  1.012e-01     0.641          0.910    0.462        -0.209   \n",
      "T              -0.069        0.755 -7.578e-06     0.971          0.669   -0.138         0.588   \n",
      "RH             -0.048        0.745  8.288e-03     0.925          0.586   -0.053         0.574   \n",
      "AH             -0.046        0.765  1.250e-02     0.985          0.647   -0.096         0.622   \n",
      "\n",
      "               NO2(GT)  PT08.S4(NO2)  PT08.S5(O3)          T     RH     AH  \n",
      "CO(GT)           0.671        -0.074        0.080 -6.895e-02 -0.048 -0.046  \n",
      "PT08.S1(CO)      0.154         0.845        0.892  7.548e-01  0.745  0.765  \n",
      "NMHC(GT)         0.103         0.163        0.101 -7.578e-06  0.008  0.013  \n",
      "C6H6(GT)        -0.011         0.775        0.641  9.714e-01  0.925  0.985  \n",
      "PT08.S2(NMHC)    0.177         0.875        0.910  6.690e-01  0.586  0.647  \n",
      "NOx(GT)          0.817         0.036        0.462 -1.385e-01 -0.053 -0.096  \n",
      "PT08.S3(NOx)    -0.256         0.123       -0.209  5.881e-01  0.574  0.622  \n",
      "NO2(GT)          1.000        -0.022        0.253 -8.408e-02 -0.081 -0.060  \n",
      "PT08.S4(NO2)    -0.022         1.000        0.724  7.551e-01  0.641  0.692  \n",
      "PT08.S5(O3)      0.253         0.724        1.000  5.037e-01  0.525  0.519  \n",
      "T               -0.084         0.755        0.504  1.000e+00  0.886  0.981  \n",
      "RH              -0.081         0.641        0.525  8.859e-01  1.000  0.944  \n",
      "AH              -0.060         0.692        0.519  9.810e-01  0.944  1.000  \n"
     ]
    }
   ],
   "source": [
    "pd.set_option('display.width', 100)\n",
    "pd.set_option('precision', 3)\n",
    "correlations = air_data.corr(method='pearson')\n",
    "\n",
    "\n",
    "print(correlations)\n",
    "\n",
    "corr_matrix = air_data.corr().abs()\n",
    "#upper = corr_matrix.where(np.triu(np.ones(corr_matrix.shape), k=1).astype(np.bool))\n",
    "\n",
    "\n",
    "#print boston_pd"
   ]
  },
  {
   "cell_type": "raw",
   "metadata": {},
   "source": [
    "The matrix lists all correlations between all pairs of attributes. Ever attribute appears twice, because the matrix is symmetrical. The diagonal line  through the matrix from the top left to bottom right corners of the matrix shows perfect correlation of each attribute with itself , every value on the diagonial is 1.\n",
    "\n",
    "From the matrix we can see that there are many high correlated columns."
   ]
  },
  {
   "cell_type": "markdown",
   "metadata": {},
   "source": [
    "# Correlation Matrix\n",
    "We can visualize these results about the correlation between variables."
   ]
  },
  {
   "cell_type": "raw",
   "metadata": {},
   "source": [
    "\n",
    "We can visualize these results about the correlation between variables in a correlation matrix. Correlatioion  matrix give a clearer view of the correlation values than the above view. At the correlation matrix we set as -1 the minimum and as 1 the maximum value (negative or positive correlated)."
   ]
  },
  {
   "cell_type": "code",
   "execution_count": 29,
   "metadata": {},
   "outputs": [
    {
     "data": {
      "image/png": "[encoded data removed]",
      "text/plain": [
       "<matplotlib.figure.Figure at 0x7f63b5382d90>"
      ]
     },
     "metadata": {},
     "output_type": "display_data"
    }
   ],
   "source": [
    "\n",
    "# In seaborn we can use a heatmap:\n",
    "sns.heatmap(correlations)\n",
    "plt.show()"
   ]
  },
  {
   "cell_type": "markdown",
   "metadata": {},
   "source": [
    "# Visualisations\n",
    "Two types of plots:\n",
    "\n",
    "Univariate plots to better understand each attribute.\n",
    "Multivariate plots to better understand the relationships between attributes (scatter matrix at the step bellow with\n",
    "the correlation values).\n",
    "\n",
    "\n"
   ]
  },
  {
   "cell_type": "markdown",
   "metadata": {},
   "source": [
    "# Univariate plots"
   ]
  },
  {
   "cell_type": "markdown",
   "metadata": {},
   "source": [
    "# Histogram"
   ]
  },
  {
   "cell_type": "raw",
   "metadata": {},
   "source": [
    "The features PT08.S4(N02), PT08.S5(O3) may follow  sth like Gaussian distribution\n"
   ]
  },
  {
   "cell_type": "code",
   "execution_count": 30,
   "metadata": {},
   "outputs": [
    {
     "data": {
      "image/png": "[encoded data removed]",
      "text/plain": [
       "<matplotlib.figure.Figure at 0x7f63b537b090>"
      ]
     },
     "metadata": {},
     "output_type": "display_data"
    }
   ],
   "source": [
    "#Analysis through Visualisation\n",
    "\n",
    "h = features.hist(figsize=(20,10))\n",
    "plt.show()\n"
   ]
  },
  {
   "cell_type": "markdown",
   "metadata": {},
   "source": [
    "# Density Plots"
   ]
  },
  {
   "cell_type": "raw",
   "metadata": {},
   "source": [
    "Also known as Kernel Density Plots, Density Trace Graph.A Density Plot visualises the distribution of data over a continuous interval or time period. This chart is a variation of a Histogram that uses kernel smoothing to plot values, allowing for smoother distributions by smoothing out the noise. The peaks of a Density Plot help display where values are concentrated over the interval.An advantage Density Plots have over Histograms is that they're better at determining the distribution shape because they're not affected by the number of bins used (each bar used in a typical histogram). \n",
    "From the density plots we take more information about features distribution that we have taken from the previous steps. ."
   ]
  },
  {
   "cell_type": "code",
   "execution_count": 34,
   "metadata": {},
   "outputs": [
    {
     "ename": "KeyboardInterrupt",
     "evalue": "",
     "output_type": "error",
     "traceback": [
      "\u001b[0;31m---------------------------------------------------------------------------\u001b[0m",
      "\u001b[0;31mKeyboardInterrupt\u001b[0m                         Traceback (most recent call last)",
      "\u001b[0;32m<ipython-input-34-dbd5cf697760>\u001b[0m in \u001b[0;36m<module>\u001b[0;34m()\u001b[0m\n\u001b[1;32m      1\u001b[0m \u001b[0;34m\u001b[0m\u001b[0m\n\u001b[1;32m      2\u001b[0m \u001b[0;34m\u001b[0m\u001b[0m\n\u001b[0;32m----> 3\u001b[0;31m \u001b[0mair_data\u001b[0m\u001b[0;34m.\u001b[0m\u001b[0mplot\u001b[0m\u001b[0;34m(\u001b[0m\u001b[0mkind\u001b[0m\u001b[0;34m=\u001b[0m\u001b[0;34m'density'\u001b[0m\u001b[0;34m,\u001b[0m \u001b[0msubplots\u001b[0m\u001b[0;34m=\u001b[0m\u001b[0mTrue\u001b[0m\u001b[0;34m,\u001b[0m \u001b[0mlayout\u001b[0m\u001b[0;34m=\u001b[0m\u001b[0;34m(\u001b[0m\u001b[0;36m6\u001b[0m\u001b[0;34m,\u001b[0m\u001b[0;36m5\u001b[0m\u001b[0;34m)\u001b[0m\u001b[0;34m,\u001b[0m \u001b[0msharex\u001b[0m\u001b[0;34m=\u001b[0m\u001b[0mFalse\u001b[0m\u001b[0;34m,\u001b[0m \u001b[0mfigsize\u001b[0m\u001b[0;34m=\u001b[0m\u001b[0;34m(\u001b[0m\u001b[0;36m50\u001b[0m\u001b[0;34m,\u001b[0m\u001b[0;36m50\u001b[0m\u001b[0;34m)\u001b[0m\u001b[0;34m)\u001b[0m\u001b[0;34m\u001b[0m\u001b[0m\n\u001b[0m\u001b[1;32m      4\u001b[0m \u001b[0mplt\u001b[0m\u001b[0;34m.\u001b[0m\u001b[0mshow\u001b[0m\u001b[0;34m(\u001b[0m\u001b[0;34m)\u001b[0m\u001b[0;34m\u001b[0m\u001b[0m\n",
      "\u001b[0;32m/home/mscuser/anaconda2/lib/python2.7/site-packages/pandas/plotting/_core.pyc\u001b[0m in \u001b[0;36m__call__\u001b[0;34m(self, x, y, kind, ax, subplots, sharex, sharey, layout, figsize, use_index, title, grid, legend, style, logx, logy, loglog, xticks, yticks, xlim, ylim, rot, fontsize, colormap, table, yerr, xerr, secondary_y, sort_columns, **kwds)\u001b[0m\n\u001b[1;32m   2618\u001b[0m                           \u001b[0mfontsize\u001b[0m\u001b[0;34m=\u001b[0m\u001b[0mfontsize\u001b[0m\u001b[0;34m,\u001b[0m \u001b[0mcolormap\u001b[0m\u001b[0;34m=\u001b[0m\u001b[0mcolormap\u001b[0m\u001b[0;34m,\u001b[0m \u001b[0mtable\u001b[0m\u001b[0;34m=\u001b[0m\u001b[0mtable\u001b[0m\u001b[0;34m,\u001b[0m\u001b[0;34m\u001b[0m\u001b[0m\n\u001b[1;32m   2619\u001b[0m                           \u001b[0myerr\u001b[0m\u001b[0;34m=\u001b[0m\u001b[0myerr\u001b[0m\u001b[0;34m,\u001b[0m \u001b[0mxerr\u001b[0m\u001b[0;34m=\u001b[0m\u001b[0mxerr\u001b[0m\u001b[0;34m,\u001b[0m \u001b[0msecondary_y\u001b[0m\u001b[0;34m=\u001b[0m\u001b[0msecondary_y\u001b[0m\u001b[0;34m,\u001b[0m\u001b[0;34m\u001b[0m\u001b[0m\n\u001b[0;32m-> 2620\u001b[0;31m                           sort_columns=sort_columns, **kwds)\n\u001b[0m\u001b[1;32m   2621\u001b[0m     \u001b[0m__call__\u001b[0m\u001b[0;34m.\u001b[0m\u001b[0m__doc__\u001b[0m \u001b[0;34m=\u001b[0m \u001b[0mplot_frame\u001b[0m\u001b[0;34m.\u001b[0m\u001b[0m__doc__\u001b[0m\u001b[0;34m\u001b[0m\u001b[0m\n\u001b[1;32m   2622\u001b[0m \u001b[0;34m\u001b[0m\u001b[0m\n",
      "\u001b[0;32m/home/mscuser/anaconda2/lib/python2.7/site-packages/pandas/plotting/_core.pyc\u001b[0m in \u001b[0;36mplot_frame\u001b[0;34m(data, x, y, kind, ax, subplots, sharex, sharey, layout, figsize, use_index, title, grid, legend, style, logx, logy, loglog, xticks, yticks, xlim, ylim, rot, fontsize, colormap, table, yerr, xerr, secondary_y, sort_columns, **kwds)\u001b[0m\n\u001b[1;32m   1855\u001b[0m                  \u001b[0myerr\u001b[0m\u001b[0;34m=\u001b[0m\u001b[0myerr\u001b[0m\u001b[0;34m,\u001b[0m \u001b[0mxerr\u001b[0m\u001b[0;34m=\u001b[0m\u001b[0mxerr\u001b[0m\u001b[0;34m,\u001b[0m\u001b[0;34m\u001b[0m\u001b[0m\n\u001b[1;32m   1856\u001b[0m                  \u001b[0msecondary_y\u001b[0m\u001b[0;34m=\u001b[0m\u001b[0msecondary_y\u001b[0m\u001b[0;34m,\u001b[0m \u001b[0msort_columns\u001b[0m\u001b[0;34m=\u001b[0m\u001b[0msort_columns\u001b[0m\u001b[0;34m,\u001b[0m\u001b[0;34m\u001b[0m\u001b[0m\n\u001b[0;32m-> 1857\u001b[0;31m                  **kwds)\n\u001b[0m\u001b[1;32m   1858\u001b[0m \u001b[0;34m\u001b[0m\u001b[0m\n\u001b[1;32m   1859\u001b[0m \u001b[0;34m\u001b[0m\u001b[0m\n",
      "\u001b[0;32m/home/mscuser/anaconda2/lib/python2.7/site-packages/pandas/plotting/_core.pyc\u001b[0m in \u001b[0;36m_plot\u001b[0;34m(data, x, y, subplots, ax, kind, **kwds)\u001b[0m\n\u001b[1;32m   1680\u001b[0m         \u001b[0mplot_obj\u001b[0m \u001b[0;34m=\u001b[0m \u001b[0mklass\u001b[0m\u001b[0;34m(\u001b[0m\u001b[0mdata\u001b[0m\u001b[0;34m,\u001b[0m \u001b[0msubplots\u001b[0m\u001b[0;34m=\u001b[0m\u001b[0msubplots\u001b[0m\u001b[0;34m,\u001b[0m \u001b[0max\u001b[0m\u001b[0;34m=\u001b[0m\u001b[0max\u001b[0m\u001b[0;34m,\u001b[0m \u001b[0mkind\u001b[0m\u001b[0;34m=\u001b[0m\u001b[0mkind\u001b[0m\u001b[0;34m,\u001b[0m \u001b[0;34m**\u001b[0m\u001b[0mkwds\u001b[0m\u001b[0;34m)\u001b[0m\u001b[0;34m\u001b[0m\u001b[0m\n\u001b[1;32m   1681\u001b[0m \u001b[0;34m\u001b[0m\u001b[0m\n\u001b[0;32m-> 1682\u001b[0;31m     \u001b[0mplot_obj\u001b[0m\u001b[0;34m.\u001b[0m\u001b[0mgenerate\u001b[0m\u001b[0;34m(\u001b[0m\u001b[0;34m)\u001b[0m\u001b[0;34m\u001b[0m\u001b[0m\n\u001b[0m\u001b[1;32m   1683\u001b[0m     \u001b[0mplot_obj\u001b[0m\u001b[0;34m.\u001b[0m\u001b[0mdraw\u001b[0m\u001b[0;34m(\u001b[0m\u001b[0;34m)\u001b[0m\u001b[0;34m\u001b[0m\u001b[0m\n\u001b[1;32m   1684\u001b[0m     \u001b[0;32mreturn\u001b[0m \u001b[0mplot_obj\u001b[0m\u001b[0;34m.\u001b[0m\u001b[0mresult\u001b[0m\u001b[0;34m\u001b[0m\u001b[0m\n",
      "\u001b[0;32m/home/mscuser/anaconda2/lib/python2.7/site-packages/pandas/plotting/_core.pyc\u001b[0m in \u001b[0;36mgenerate\u001b[0;34m(self)\u001b[0m\n\u001b[1;32m    236\u001b[0m         \u001b[0mself\u001b[0m\u001b[0;34m.\u001b[0m\u001b[0m_compute_plot_data\u001b[0m\u001b[0;34m(\u001b[0m\u001b[0;34m)\u001b[0m\u001b[0;34m\u001b[0m\u001b[0m\n\u001b[1;32m    237\u001b[0m         \u001b[0mself\u001b[0m\u001b[0;34m.\u001b[0m\u001b[0m_setup_subplots\u001b[0m\u001b[0;34m(\u001b[0m\u001b[0;34m)\u001b[0m\u001b[0;34m\u001b[0m\u001b[0m\n\u001b[0;32m--> 238\u001b[0;31m         \u001b[0mself\u001b[0m\u001b[0;34m.\u001b[0m\u001b[0m_make_plot\u001b[0m\u001b[0;34m(\u001b[0m\u001b[0;34m)\u001b[0m\u001b[0;34m\u001b[0m\u001b[0m\n\u001b[0m\u001b[1;32m    239\u001b[0m         \u001b[0mself\u001b[0m\u001b[0;34m.\u001b[0m\u001b[0m_add_table\u001b[0m\u001b[0;34m(\u001b[0m\u001b[0;34m)\u001b[0m\u001b[0;34m\u001b[0m\u001b[0m\n\u001b[1;32m    240\u001b[0m         \u001b[0mself\u001b[0m\u001b[0;34m.\u001b[0m\u001b[0m_make_legend\u001b[0m\u001b[0;34m(\u001b[0m\u001b[0;34m)\u001b[0m\u001b[0;34m\u001b[0m\u001b[0m\n",
      "\u001b[0;32m/home/mscuser/anaconda2/lib/python2.7/site-packages/pandas/plotting/_core.pyc\u001b[0m in \u001b[0;36m_make_plot\u001b[0;34m(self)\u001b[0m\n\u001b[1;32m   1311\u001b[0m             \u001b[0mkwds\u001b[0m \u001b[0;34m=\u001b[0m \u001b[0mself\u001b[0m\u001b[0;34m.\u001b[0m\u001b[0m_make_plot_keywords\u001b[0m\u001b[0;34m(\u001b[0m\u001b[0mkwds\u001b[0m\u001b[0;34m,\u001b[0m \u001b[0my\u001b[0m\u001b[0;34m)\u001b[0m\u001b[0;34m\u001b[0m\u001b[0m\n\u001b[1;32m   1312\u001b[0m             artists = self._plot(ax, y, column_num=i,\n\u001b[0;32m-> 1313\u001b[0;31m                                  stacking_id=stacking_id, **kwds)\n\u001b[0m\u001b[1;32m   1314\u001b[0m             \u001b[0mself\u001b[0m\u001b[0;34m.\u001b[0m\u001b[0m_add_legend_handle\u001b[0m\u001b[0;34m(\u001b[0m\u001b[0martists\u001b[0m\u001b[0;34m[\u001b[0m\u001b[0;36m0\u001b[0m\u001b[0;34m]\u001b[0m\u001b[0;34m,\u001b[0m \u001b[0mlabel\u001b[0m\u001b[0;34m,\u001b[0m \u001b[0mindex\u001b[0m\u001b[0;34m=\u001b[0m\u001b[0mi\u001b[0m\u001b[0;34m)\u001b[0m\u001b[0;34m\u001b[0m\u001b[0m\n\u001b[1;32m   1315\u001b[0m \u001b[0;34m\u001b[0m\u001b[0m\n",
      "\u001b[0;32m/home/mscuser/anaconda2/lib/python2.7/site-packages/pandas/plotting/_core.pyc\u001b[0m in \u001b[0;36m_plot\u001b[0;34m(cls, ax, y, style, bw_method, ind, column_num, stacking_id, **kwds)\u001b[0m\n\u001b[1;32m   1374\u001b[0m                 \u001b[0mwarnings\u001b[0m\u001b[0;34m.\u001b[0m\u001b[0mwarn\u001b[0m\u001b[0;34m(\u001b[0m\u001b[0mmsg\u001b[0m\u001b[0;34m)\u001b[0m\u001b[0;34m\u001b[0m\u001b[0m\n\u001b[1;32m   1375\u001b[0m \u001b[0;34m\u001b[0m\u001b[0m\n\u001b[0;32m-> 1376\u001b[0;31m         \u001b[0my\u001b[0m \u001b[0;34m=\u001b[0m \u001b[0mgkde\u001b[0m\u001b[0;34m.\u001b[0m\u001b[0mevaluate\u001b[0m\u001b[0;34m(\u001b[0m\u001b[0mind\u001b[0m\u001b[0;34m)\u001b[0m\u001b[0;34m\u001b[0m\u001b[0m\n\u001b[0m\u001b[1;32m   1377\u001b[0m         \u001b[0mlines\u001b[0m \u001b[0;34m=\u001b[0m \u001b[0mMPLPlot\u001b[0m\u001b[0;34m.\u001b[0m\u001b[0m_plot\u001b[0m\u001b[0;34m(\u001b[0m\u001b[0max\u001b[0m\u001b[0;34m,\u001b[0m \u001b[0mind\u001b[0m\u001b[0;34m,\u001b[0m \u001b[0my\u001b[0m\u001b[0;34m,\u001b[0m \u001b[0mstyle\u001b[0m\u001b[0;34m=\u001b[0m\u001b[0mstyle\u001b[0m\u001b[0;34m,\u001b[0m \u001b[0;34m**\u001b[0m\u001b[0mkwds\u001b[0m\u001b[0;34m)\u001b[0m\u001b[0;34m\u001b[0m\u001b[0m\n\u001b[1;32m   1378\u001b[0m         \u001b[0;32mreturn\u001b[0m \u001b[0mlines\u001b[0m\u001b[0;34m\u001b[0m\u001b[0m\n",
      "\u001b[0;32m/home/mscuser/anaconda2/lib/python2.7/site-packages/scipy/stats/kde.pyc\u001b[0m in \u001b[0;36mevaluate\u001b[0;34m(self, points)\u001b[0m\n\u001b[1;32m    220\u001b[0m                 \u001b[0mtdiff\u001b[0m \u001b[0;34m=\u001b[0m \u001b[0mdot\u001b[0m\u001b[0;34m(\u001b[0m\u001b[0mself\u001b[0m\u001b[0;34m.\u001b[0m\u001b[0minv_cov\u001b[0m\u001b[0;34m,\u001b[0m \u001b[0mdiff\u001b[0m\u001b[0;34m)\u001b[0m\u001b[0;34m\u001b[0m\u001b[0m\n\u001b[1;32m    221\u001b[0m                 \u001b[0menergy\u001b[0m \u001b[0;34m=\u001b[0m \u001b[0msum\u001b[0m\u001b[0;34m(\u001b[0m\u001b[0mdiff\u001b[0m \u001b[0;34m*\u001b[0m \u001b[0mtdiff\u001b[0m\u001b[0;34m,\u001b[0m \u001b[0maxis\u001b[0m\u001b[0;34m=\u001b[0m\u001b[0;36m0\u001b[0m\u001b[0;34m)\u001b[0m \u001b[0;34m/\u001b[0m \u001b[0;36m2.0\u001b[0m\u001b[0;34m\u001b[0m\u001b[0m\n\u001b[0;32m--> 222\u001b[0;31m                 \u001b[0mresult\u001b[0m\u001b[0;34m[\u001b[0m\u001b[0mi\u001b[0m\u001b[0;34m]\u001b[0m \u001b[0;34m=\u001b[0m \u001b[0msum\u001b[0m\u001b[0;34m(\u001b[0m\u001b[0mexp\u001b[0m\u001b[0;34m(\u001b[0m\u001b[0;34m-\u001b[0m\u001b[0menergy\u001b[0m\u001b[0;34m)\u001b[0m\u001b[0;34m,\u001b[0m \u001b[0maxis\u001b[0m\u001b[0;34m=\u001b[0m\u001b[0;36m0\u001b[0m\u001b[0;34m)\u001b[0m\u001b[0;34m\u001b[0m\u001b[0m\n\u001b[0m\u001b[1;32m    223\u001b[0m \u001b[0;34m\u001b[0m\u001b[0m\n\u001b[1;32m    224\u001b[0m         \u001b[0mresult\u001b[0m \u001b[0;34m=\u001b[0m \u001b[0mresult\u001b[0m \u001b[0;34m/\u001b[0m \u001b[0mself\u001b[0m\u001b[0;34m.\u001b[0m\u001b[0m_norm_factor\u001b[0m\u001b[0;34m\u001b[0m\u001b[0m\n",
      "\u001b[0;31mKeyboardInterrupt\u001b[0m: "
     ]
    }
   ],
   "source": [
    "\n",
    "\n",
    "features.plot(kind='density', subplots=True, layout=(6,5), sharex=False, figsize=(50,50))\n",
    "plt.show()"
   ]
  },
  {
   "cell_type": "markdown",
   "metadata": {},
   "source": [
    "# Box plots"
   ]
  },
  {
   "cell_type": "raw",
   "metadata": {},
   "source": [
    "The input variables are numeric so we can create box and whisker plots of each attribute (univariate plot)\n",
    "\n",
    "Boxplots summarize the distribution of each attribute, drawing a line for the median (middle value-50%) \n",
    "and a box around the 25th and 75th percentiles (we saw these statistics at describe function above). \n",
    "\n",
    "Boxplots summarize the distribution of each attribute, drawing a line for the median (middle value) and a box around the 25th and 75th percentiles (the middle 50% of the data). The whiskers give an idea of the spread of the data and dots outside of the whiskers show candidate outlier values (values that are 1.5 times greater than the size of spread of the middle 50% of the data).\n",
    "\n",
    "The whiskers give an idea of the spread of the data and dots outside of the whiskers show candidate \n",
    "outlier values.\n",
    "\n",
    "Note that data in the column CHAS has binary data (if tract bounds Charles River or not), so it is empty in the box plot."
   ]
  },
  {
   "cell_type": "code",
   "execution_count": 37,
   "metadata": {},
   "outputs": [
    {
     "data": {
      "image/png": "[encoded data removed]",
      "text/plain": [
       "<matplotlib.figure.Figure at 0x7f63b0981a90>"
      ]
     },
     "metadata": {},
     "output_type": "display_data"
    }
   ],
   "source": [
    "# Using seaborn\n",
    "\n",
    "sns.boxplot(data=features)\n",
    "plt.show()\n"
   ]
  },
  {
   "cell_type": "raw",
   "metadata": {},
   "source": [
    "Here we can see that in some features there are many outliers."
   ]
  },
  {
   "cell_type": "markdown",
   "metadata": {},
   "source": [
    "# Step 4: Prepare Data\n",
    "Data Cleaning/Data Wrangling/Collect more data (if necessary).\n",
    "Data rescaling in order to make attributes use the same scale (range of values)\n",
    "Algorithms will be benefit from that, eg: linear regression, K-means etc\n",
    "\n"
   ]
  },
  {
   "cell_type": "markdown",
   "metadata": {},
   "source": [
    "# Rescale\n",
    " "
   ]
  },
  {
   "cell_type": "raw",
   "metadata": {},
   "source": [
    "If you look closer, you will find that every column has its own data range. This is  bad  because input values make different contributions to the calculation of the output values. Bigger values will be more important for the model which can be perceived as invalid assumption based on data. \n",
    "Rescale data (between 0 and 1). Very small standard deviations of features and preserving zero entries in sparse data.\n"
   ]
  },
  {
   "cell_type": "code",
   "execution_count": 38,
   "metadata": {
    "collapsed": true
   },
   "outputs": [],
   "source": [
    "\n",
    "# Rescale data (between 0 and 1)\n",
    "scaler = MinMaxScaler(feature_range=(0, 1))\n",
    "rescaledX = scaler.fit_transform(features)\n",
    "\n",
    "scaler2=MinMaxScaler()\n",
    "rescaledY=scaler2.fit_transform(labels.reshape(-1, 1))\n",
    "# summarise transformed data\n",
    "\n"
   ]
  },
  {
   "cell_type": "markdown",
   "metadata": {},
   "source": [
    "# Standardise\n",
    "Standardize features by removing the mean and scaling to unit variance"
   ]
  },
  {
   "cell_type": "code",
   "execution_count": 39,
   "metadata": {},
   "outputs": [
    {
     "name": "stdout",
     "output_type": "stream",
     "text": [
      "Mean after scalling is: -6.581208766970398e-17\n",
      "Variance after scalling is: 1.0\n"
     ]
    }
   ],
   "source": [
    "#Standardise Data\n",
    "\n",
    "scaler = StandardScaler().fit(rescaledX)\n",
    "standardX = scaler.transform(rescaledX)\n",
    "\n",
    "scaler2=StandardScaler().fit(rescaledY)\n",
    "standardY=scaler2.transform(rescaledY)\n",
    "print \"Mean after scalling is:\", standardX.mean()\n",
    "print \"Variance after scalling is:\", standardX.var()\n",
    "\n"
   ]
  },
  {
   "cell_type": "markdown",
   "metadata": {},
   "source": [
    "# Normalise"
   ]
  },
  {
   "cell_type": "code",
   "execution_count": 40,
   "metadata": {
    "collapsed": true
   },
   "outputs": [],
   "source": [
    "\n",
    "# Normalise data (length of 1)\n",
    "scaler = Normalizer().fit(standardX)\n",
    "normalizedX = scaler.transform(standardX)\n",
    "\n",
    "\n",
    "scaler2 = Normalizer().fit(standardY)\n",
    "normalizedY = scaler.transform(standardY)\n",
    "\n",
    "X=normalizedX\n",
    "Y=normalizedY"
   ]
  },
  {
   "cell_type": "markdown",
   "metadata": {},
   "source": [
    "# Step 5: Feature Engineering\n",
    "Feature selection/feture engineering (as in new features)/data transformations.\n",
    "\n"
   ]
  },
  {
   "cell_type": "raw",
   "metadata": {},
   "source": [
    "    Feature engineering is about creating new input features from the existing ones in order to reduce\n",
    "overfitting or bring new domain knowledge. As domain knowledge is a knowledge about a specific characteristic up to data that can help us to result in a new outcome, more specifically.\n",
    "    Feature engineering also is about merge features that are not so important at once, split features if it is needed or to convert into binary some categorical values by creating a binary “dummy” variable for each categorical value.\n",
    "When a feature has very low variance and its value doesnt change during the tests , this feature isnt important for that regression model as has very small effect at the outcomes of the model.\n",
    "\n",
    "It is known that the better the features that you prepare and choose, the better the results you will achieve. Better features means flexibility (allow you to use less complex models that are faster to run) , simpler models and better results. A feature may be important if it is highly correlated with the dependent variable (the thing being predicted). Correlation coefficients and other univariate (each attribute is considered independently) methods are common methods. "
   ]
  },
  {
   "cell_type": "markdown",
   "metadata": {},
   "source": [
    "# Step 6: Algorithm Selection\n",
    "Select a set of algorithms to apply, select evaluation metrics, and evaluate/compare algorithms.\n",
    "\n"
   ]
  },
  {
   "cell_type": "raw",
   "metadata": {},
   "source": [
    "At this step we will run the dataset for 3 different regressors in order to compare them. At each of them we will tune its parameters in order to have the best performance.\n",
    "\n",
    "The list  with algorithms is:\n",
    "Linear Regression, Ridge Regression , Lasso Regression.\n",
    "\n",
    "We reset the random number seed before each run to ensure that the evaluation of each algorithm is performed using exactly the same data splits. It ensures the results are directly comparable.\n"
   ]
  },
  {
   "cell_type": "markdown",
   "metadata": {},
   "source": [
    "# Cross validation"
   ]
  },
  {
   "cell_type": "raw",
   "metadata": {},
   "source": [
    "Cross validation is an approach that you can use to estimate the performance of a machine learning algorithm with less variance than a single train-test set split. Usually k_parts os splitting equals to 10 when it hasnt defined before.\n",
    "It works by splitting the dataset into k-parts (e.g. k=5 or k=10). Each split of the data is called a fold. The algorithm is trained on k-1 folds with one held back and tested on the held back fold. This is repeated so that each fold of the dataset is given a chance to be the held back test set.\n",
    "\n",
    "After running cross validation, ends up with k different performance scores. RMSE is not directly available so we will use these metrics:mean squared error (MSE), mean absolute error (MAE) and R^2.We will the absolute value before taking the square root for calculating the RMSE.\n",
    "\n",
    "Neg_mean_xxx  returns the negated value of the metric, so we will hold the largest value of (MAE)"
   ]
  },
  {
   "cell_type": "code",
   "execution_count": 41,
   "metadata": {
    "collapsed": true
   },
   "outputs": [],
   "source": [
    "\n",
    "#set  num of kfolds\n",
    "seed=7\n",
    "kfold = KFold(n_splits=10, random_state=seed)"
   ]
  },
  {
   "cell_type": "markdown",
   "metadata": {},
   "source": [
    "# Algorithms"
   ]
  },
  {
   "cell_type": "raw",
   "metadata": {},
   "source": [
    "Firstly we will split the dataset at train and test set. We will train the model with the training dataset and after\n",
    "we will check its accuracy with the test dataset. The unseen data (testing data) would be the 20% of the total data. Model will be trained at 80% of the dataset.\n",
    "    Algorithms:\n",
    "    Linear Regression\n",
    "    Ridge Regression\n",
    "    Lasso Regression"
   ]
  },
  {
   "cell_type": "code",
   "execution_count": 42,
   "metadata": {
    "collapsed": true
   },
   "outputs": [],
   "source": [
    "X_train, X_test, Y_train, Y_test = train_test_split(X, Y, test_size=0.20, random_state=seed)\n"
   ]
  },
  {
   "cell_type": "code",
   "execution_count": 43,
   "metadata": {
    "scrolled": true
   },
   "outputs": [
    {
     "name": "stdout",
     "output_type": "stream",
     "text": [
      "LR: -0.154468 (0.012818)--neg_mean_squared_error\n",
      "RIDGE: -0.154926 (0.012805)--neg_mean_squared_error\n",
      "LASSO: -0.333071 (0.029202)--neg_mean_squared_error\n",
      "LR: -0.222955 (0.008283)--neg_mean_absolute_error\n",
      "RIDGE: -0.223666 (0.008294)--neg_mean_absolute_error\n",
      "LASSO: -0.333034 (0.012978)--neg_mean_absolute_error\n",
      "LR: 0.533888 (0.037481)--r2\n",
      "RIDGE: 0.532471 (0.037916)--r2\n",
      "LASSO: -0.001286 (0.001974)--r2\n",
      "R^2:\n",
      "[('LASSO', -0.001286148317802649), ('RIDGE', 0.5324710775047905), ('LR', 0.5338880980965296)]\n",
      "MSE:\n",
      "[('LASSO', -0.3330710630558255), ('RIDGE', -0.15492599680967045), ('LR', -0.1544675380753059)]\n",
      "MAE:\n",
      "[('LASSO', -0.33303402271994226), ('RIDGE', -0.22366577605823093), ('LR', -0.22295484018010647)]\n",
      "('LR', -0.22295484018010647)\n"
     ]
    }
   ],
   "source": [
    "\n",
    "\n",
    "models = []\n",
    "models.append(('LR',      LinearRegression()))\n",
    "models.append(('RIDGE',   Ridge()))\n",
    "models.append(('LASSO',   Lasso()))\n",
    "\n",
    "\n",
    "# The scoring function to use\n",
    "scoring = ['neg_mean_squared_error','neg_mean_absolute_error','r2']\n",
    "\n",
    "# We are going to evaluate all classifiers, and store results in two lists:\n",
    "results_mse={}\n",
    "results_mae={}\n",
    "results_r2={}\n",
    "results = {}\n",
    "names   = []\n",
    "for score in scoring:\n",
    "    results={}\n",
    "    names   = []\n",
    "    for name, model in models:\n",
    "        kfold = KFold(n_splits=10, random_state=seed)\n",
    "        cv_results = cross_val_score(model, X_train, Y_train, cv=kfold, scoring=score)\n",
    "        cv_results=(cv_results)\n",
    "        results[name]=cv_results.mean()\n",
    "        names.append(name)\n",
    "        msg = \"%s: %f (%f)--%s\" % (name, cv_results.mean(), cv_results.std(),score)\n",
    "        print(msg)\n",
    "    if score=='neg_mean_squared_error':\n",
    "        results_mse=results\n",
    "    elif score=='neg_mean_absolute_error':\n",
    "        results_mae=results\n",
    "    else:\n",
    "        results_r2=results\n",
    "        \n",
    "        \n",
    "        \n",
    "results_r2_sorted=  sorted(results_r2.items(), key=operator.itemgetter(1))\n",
    "results_mse_sorted=  sorted(results_mse.items(), key=operator.itemgetter(1))\n",
    "results_mae_sorted=  sorted(results_mae.items(), key=operator.itemgetter(1))\n",
    "print \"R^2:\\n\", results_r2_sorted\n",
    "print \"MSE:\\n\", results_mse_sorted\n",
    "print \"MAE:\\n\", results_mae_sorted\n",
    "\n",
    "print \"1st choice on training:\",(results_mae_sorted[2])\n",
    "print \"2nd choice on training:\",(results_mae_sorted[1])"
   ]
  },
  {
   "cell_type": "markdown",
   "metadata": {},
   "source": [
    "The Ridge algorithm was the most accurate model that we tested. Now we want to get an idea of the accuracy of the model on the test set. We will split the data set at test and train set.\n",
    "\n"
   ]
  },
  {
   "cell_type": "markdown",
   "metadata": {},
   "source": [
    "# Step 7: Tunning hyperparameters,train the model, running test dataset\n",
    "\n"
   ]
  },
  {
   "cell_type": "raw",
   "metadata": {
    "collapsed": true
   },
   "source": [
    "In order to improve the accuracy of the model and to have more right predictions you can change the hyperparameters  of the algorithm and set your own values. Hyperparameters are used in order to get the best possible fit for the data set."
   ]
  },
  {
   "cell_type": "code",
   "execution_count": 44,
   "metadata": {
    "collapsed": true
   },
   "outputs": [],
   "source": [
    "\n",
    "regressors=['LR', 'RIDGE','LASSO']\n",
    "\n",
    "#With Hyper Parameters Tuning\n",
    "for i in regressors:\n",
    "    if i==\"LR\":\n",
    "        model_LR=  LinearRegression()\n",
    "        params_LR = {\n",
    "            'fit_intercept':[True,False],\n",
    "            'normalize':[True,False],\n",
    "            'copy_X':[True, False] }\n",
    "    elif i==\"RIDGE\":\n",
    "        model_Ridge=Ridge()\n",
    "        params_Ridge ={'solver' : ['svd','lsqr' ,'auto','cholesky'],\n",
    "                 'alpha':[0.001,0.01,0.1,0.2],\n",
    "                 'fit_intercept':[True, False],\n",
    "                 'normalize':[True,False],\n",
    "                 'tol':[0.001, 0.002, 0.01,0.1]}\n",
    "    else: \n",
    "        model_Lasso=Lasso()\n",
    "        params_Lasso = { 'alpha':[0.001,0.01,0.1,0.2],\n",
    "                    'fit_intercept':[True, False],\n",
    "                   'normalize':[True,False],\n",
    "                  'max_iter':[1000,2000,500],\n",
    "                    'tol':[0.001, 0.002, 0.01,0.1],\n",
    "                 'selection':['cyclic','random']}\n",
    "\n",
    "\n",
    "\n"
   ]
  },
  {
   "cell_type": "markdown",
   "metadata": {},
   "source": [
    "# Linear Regressor"
   ]
  },
  {
   "cell_type": "code",
   "execution_count": 45,
   "metadata": {},
   "outputs": [
    {
     "name": "stdout",
     "output_type": "stream",
     "text": [
      "('Best Hyper Parameters:', {'copy_X': True, 'normalize': True, 'fit_intercept': True})\n",
      "neg_mean_absolute_error after setting hyperparameters is: -0.22295484018010647\n"
     ]
    }
   ],
   "source": [
    "\n",
    "model_LR_win = GridSearchCV(model_LR, param_grid=params_LR, n_jobs=-1)\n",
    "#Learning\n",
    "model_LR_win.fit(X_train,Y_train)\n",
    "#The best hyper parameters set\n",
    "print(\"Best Hyper Parameters:\",model_LR_win.best_params_)\n",
    "#Prediction\n",
    "prediction=model_LR_win.predict(X_test)\n",
    "\n",
    "score='neg_mean_absolute_error'\n",
    "\n",
    "neg_mean_absolute_error = cross_val_score(model_LR, X_train, Y_train, cv=kfold, scoring='neg_mean_absolute_error')\n",
    "neg_mean_absolute_error=neg_mean_absolute_error.mean()\n",
    "print \"neg_mean_absolute_error after setting hyperparameters is:\",(neg_mean_absolute_error)"
   ]
  },
  {
   "cell_type": "markdown",
   "metadata": {},
   "source": [
    "# Lasso Regressor"
   ]
  },
  {
   "cell_type": "code",
   "execution_count": 46,
   "metadata": {},
   "outputs": [
    {
     "name": "stdout",
     "output_type": "stream",
     "text": [
      "('Best Hyper Parameters:', {'normalize': False, 'selection': 'cyclic', 'fit_intercept': True, 'max_iter': 1000, 'tol': 0.001, 'alpha': 0.001})\n",
      "neg_mean_absolute_error after setting hyperparameters is: -0.33303402271994226\n"
     ]
    }
   ],
   "source": [
    "\n",
    "model_Lasso_win = GridSearchCV(model_Lasso, param_grid=params_Lasso, n_jobs=-1)\n",
    "#Learning\n",
    "model_Lasso_win.fit(X_train,Y_train)\n",
    "#The best hyper parameters set\n",
    "print(\"Best Hyper Parameters:\",model_Lasso_win.best_params_)\n",
    "#Prediction\n",
    "prediction=model_Lasso_win.predict(X_test)\n",
    "score='neg_mean_absolute_error'\n",
    "neg_mean_absolute_error = cross_val_score(model_Lasso, X_train, Y_train, cv=kfold, scoring='neg_mean_absolute_error')\n",
    "neg_mean_absolute_error=neg_mean_absolute_error.mean()\n",
    "print \"neg_mean_absolute_error after setting hyperparameters is:\",(neg_mean_absolute_error)"
   ]
  },
  {
   "cell_type": "markdown",
   "metadata": {},
   "source": [
    "# Ridge Regressor"
   ]
  },
  {
   "cell_type": "code",
   "execution_count": 47,
   "metadata": {},
   "outputs": [
    {
     "name": "stdout",
     "output_type": "stream",
     "text": [
      "('Best Hyper Parameters:', {'normalize': False, 'selection': 'cyclic', 'fit_intercept': True, 'max_iter': 1000, 'tol': 0.001, 'alpha': 0.001})\n",
      "neg_mean_absolute_error after setting hyperparameters is: -0.22366577605823093\n"
     ]
    }
   ],
   "source": [
    "\n",
    "model_Ridge_win = GridSearchCV(model_Ridge, param_grid=params_Ridge, n_jobs=-1)\n",
    "#Learning\n",
    "model_Ridge_win.fit(X_train,Y_train)\n",
    "#The best hyper parameters set\n",
    "print(\"Best Hyper Parameters:\",model_Lasso_win.best_params_)\n",
    "#Prediction\n",
    "prediction=model_Ridge_win.predict(X_test)\n",
    "#importing the metrics module\n",
    "score='neg_mean_absolute_error'\n",
    "#evaluation(Accuracy)\n",
    "neg_mean_absolute_error = cross_val_score(model_Ridge, X_train, Y_train, cv=kfold, scoring='neg_mean_absolute_error')\n",
    "neg_mean_absolute_error=neg_mean_absolute_error.mean()\n",
    "print \"neg_mean_absolute_error after setting hyperparameters is:\",(neg_mean_absolute_error)"
   ]
  },
  {
   "cell_type": "markdown",
   "metadata": {},
   "source": [
    "# Step 8: Run testing dataset"
   ]
  },
  {
   "cell_type": "markdown",
   "metadata": {},
   "source": [
    "# Liner Regressor"
   ]
  },
  {
   "cell_type": "code",
   "execution_count": 48,
   "metadata": {},
   "outputs": [
    {
     "name": "stdout",
     "output_type": "stream",
     "text": [
      "The model is : GridSearchCV(cv=None, error_score='raise',\n",
      "       estimator=LinearRegression(copy_X=True, fit_intercept=True, n_jobs=1, normalize=False),\n",
      "       fit_params={}, iid=True, n_jobs=-1,\n",
      "       param_grid={'normalize': [True, False], 'copy_X': [True, False], 'fit_intercept': [True, False]},\n",
      "       pre_dispatch='2*n_jobs', refit=True, return_train_score=True,\n",
      "       scoring=None, verbose=0)\n",
      "neg_mean_absolute_error for test dataset after setting  hyperparameters is: -0.253718537044171\n"
     ]
    }
   ],
   "source": [
    "\n",
    "model_LR_win.fit(X_test,Y_test)\n",
    "predictions_LR=model_LR_win.predict(X_test)\n",
    "neg_mean_absolute_error_LR = cross_val_score(model_LR_win, X_test, Y_test, cv=kfold, scoring='neg_mean_absolute_error')\n",
    "neg_mean_absolute_error_LR=neg_mean_absolute_error_LR.mean()\n",
    "print \"The model is :\", model_LR_win\n",
    "print \"neg_mean_absolute_error for test dataset after setting  hyperparameters is:\",(neg_mean_absolute_error_LR)\n"
   ]
  },
  {
   "cell_type": "markdown",
   "metadata": {
    "collapsed": true
   },
   "source": [
    "# Lasso Regressor"
   ]
  },
  {
   "cell_type": "code",
   "execution_count": 49,
   "metadata": {},
   "outputs": [
    {
     "name": "stdout",
     "output_type": "stream",
     "text": [
      "The  model is : GridSearchCV(cv=None, error_score='raise',\n",
      "       estimator=Lasso(alpha=1.0, copy_X=True, fit_intercept=True, max_iter=1000,\n",
      "   normalize=False, positive=False, precompute=False, random_state=None,\n",
      "   selection='cyclic', tol=0.0001, warm_start=False),\n",
      "       fit_params={}, iid=True, n_jobs=-1,\n",
      "       param_grid={'normalize': [True, False], 'selection': ['cyclic', 'random'], 'fit_intercept': [True, False], 'max_iter': [1000, 2000, 500], 'tol': [0.001, 0.002, 0.01, 0.1], 'alpha': [0.001, 0.01, 0.1, 0.2]},\n",
      "       pre_dispatch='2*n_jobs', refit=True, return_train_score=True,\n",
      "       scoring=None, verbose=0)\n",
      "neg_mean_absolute_error for test dataset after setting  hyperparameters is: -0.2501487531480461\n"
     ]
    }
   ],
   "source": [
    "\n",
    "model_Lasso_win.fit(X_test,Y_test)\n",
    "predictions_Lasso=model_Lasso_win.predict(X_test)\n",
    "neg_mean_absolute_error_Lasso = cross_val_score(model_Lasso_win, X_test, Y_test, cv=kfold, scoring='neg_mean_absolute_error')\n",
    "neg_mean_absolute_error_Lasso=neg_mean_absolute_error_Lasso.mean()\n",
    "print \"The  model is :\", model_Lasso_win\n",
    "print \"neg_mean_absolute_error for test dataset after setting  hyperparameters is:\",(neg_mean_absolute_error_Lasso)"
   ]
  },
  {
   "cell_type": "markdown",
   "metadata": {},
   "source": [
    "# Ridge Regressor"
   ]
  },
  {
   "cell_type": "code",
   "execution_count": 75,
   "metadata": {},
   "outputs": [
    {
     "name": "stdout",
     "output_type": "stream",
     "text": [
      "The  model is : GridSearchCV(cv=None, error_score='raise',\n",
      "       estimator=Ridge(alpha=1.0, copy_X=True, fit_intercept=True, max_iter=None,\n",
      "   normalize=False, random_state=None, solver='auto', tol=0.001),\n",
      "       fit_params={}, iid=True, n_jobs=-1,\n",
      "       param_grid={'normalize': [True, False], 'alpha': [0.001, 0.01, 0.1, 0.2], 'fit_intercept': [True, False], 'tol': [0.001, 0.002, 0.01, 0.1], 'solver': ['svd', 'lsqr', 'auto', 'cholesky']},\n",
      "       pre_dispatch='2*n_jobs', refit=True, return_train_score=True,\n",
      "       scoring=None, verbose=0)\n",
      "neg_mean_absolute_error for test dataset after setting  hyperparameters is: -0.6261476751427445\n"
     ]
    }
   ],
   "source": [
    "model_Ridge_win.fit(X_test,Y_test)\n",
    "predictions_Ridge=model_Ridge_win.predict(X_test)\n",
    "neg_mean_absolute_error_Ridge = cross_val_score(model_Ridge_win, X_test, Y_test, cv=kfold, scoring='neg_mean_absolute_error')\n",
    "neg_mean_absolute_error_Ridge=neg_mean_absolute_error_Ridge.mean()\n",
    "print \"The  model is :\", model_Ridge_win\n",
    "print \"neg_mean_absolute_error for test dataset after setting  hyperparameters is:\",(neg_mean_absolute_error_Ridge)"
   ]
  },
  {
   "cell_type": "raw",
   "metadata": {},
   "source": [
    "Best perfromance on testing dataset has Lasso Regressor"
   ]
  },
  {
   "cell_type": "code",
   "execution_count": null,
   "metadata": {
    "collapsed": true
   },
   "outputs": [],
   "source": []
  }
 ],
 "metadata": {
  "kernelspec": {
   "display_name": "Python 2",
   "language": "python",
   "name": "python2"
  },
  "language_info": {
   "codemirror_mode": {
    "name": "ipython",
    "version": 2
   },
   "file_extension": ".py",
   "mimetype": "text/x-python",
   "name": "python",
   "nbconvert_exporter": "python",
   "pygments_lexer": "ipython2",
   "version": "2.7.13"
  }
 },
 "nbformat": 4,
 "nbformat_minor": 2
}
